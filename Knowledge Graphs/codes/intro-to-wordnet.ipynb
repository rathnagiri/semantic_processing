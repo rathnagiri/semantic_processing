{
  "cells": [
    {
      "cell_type": "markdown",
      "metadata": {
        "id": "view-in-github",
        "colab_type": "text"
      },
      "source": [
        "<a href=\"https://colab.research.google.com/github/rathnagiri/semantic_processing/blob/main/Knowledge%20Graphs/codes/intro-to-wordnet.ipynb\" target=\"_parent\"><img src=\"https://colab.research.google.com/assets/colab-badge.svg\" alt=\"Open In Colab\"/></a>"
      ]
    },
    {
      "cell_type": "raw",
      "id": "freelance-naples",
      "metadata": {
        "id": "freelance-naples"
      },
      "source": [
        "----------------------------------------------------------------------\n",
        "Filename : intro-to-wordnet.ipynb\n",
        "Author   : Jaidev Deshpande\n",
        "Purpose  : Understanding Wordnet functionalities\n",
        "Libraries: nltk\n",
        "----------------------------------------------------------------------"
      ]
    },
    {
      "cell_type": "markdown",
      "id": "anonymous-canadian",
      "metadata": {
        "id": "anonymous-canadian"
      },
      "source": [
        "## [WordNet®](https://wordnet.princeton.edu/) Tutorial\n",
        "\n",
        "### Navigating Wornet Relationships"
      ]
    },
    {
      "cell_type": "code",
      "execution_count": null,
      "id": "widespread-traveler",
      "metadata": {
        "id": "widespread-traveler"
      },
      "outputs": [],
      "source": [
        "!pip install nltk"
      ]
    },
    {
      "cell_type": "code",
      "execution_count": 1,
      "id": "vocational-clearance",
      "metadata": {
        "id": "vocational-clearance"
      },
      "outputs": [],
      "source": [
        "from nltk import download"
      ]
    },
    {
      "cell_type": "code",
      "execution_count": 2,
      "id": "sensitive-albany",
      "metadata": {
        "id": "sensitive-albany",
        "outputId": "af332151-9657-4d0d-d436-5565cde804f1",
        "colab": {
          "base_uri": "https://localhost:8080/"
        }
      },
      "outputs": [
        {
          "output_type": "stream",
          "name": "stderr",
          "text": [
            "[nltk_data] Downloading package wordnet to /root/nltk_data...\n"
          ]
        },
        {
          "output_type": "execute_result",
          "data": {
            "text/plain": [
              "True"
            ]
          },
          "metadata": {},
          "execution_count": 2
        }
      ],
      "source": [
        "download('wordnet')"
      ]
    },
    {
      "cell_type": "code",
      "execution_count": 3,
      "id": "weird-memory",
      "metadata": {
        "id": "weird-memory"
      },
      "outputs": [],
      "source": [
        "from nltk.corpus import wordnet"
      ]
    },
    {
      "cell_type": "code",
      "execution_count": 4,
      "id": "developing-failure",
      "metadata": {
        "id": "developing-failure",
        "outputId": "030ef0b7-6d5d-42ac-9b86-e09bdd4eae6c",
        "colab": {
          "base_uri": "https://localhost:8080/"
        }
      },
      "outputs": [
        {
          "output_type": "execute_result",
          "data": {
            "text/plain": [
              "[Synset('tractor.n.01'), Synset('tractor.n.02')]"
            ]
          },
          "metadata": {},
          "execution_count": 4
        }
      ],
      "source": [
        "# Synsets\n",
        "\n",
        "tractor = wordnet.synsets('tractor')\n",
        "tractor"
      ]
    },
    {
      "cell_type": "code",
      "execution_count": 5,
      "id": "seasonal-hungary",
      "metadata": {
        "id": "seasonal-hungary",
        "outputId": "20605231-de7a-48d8-9662-007fa948795f",
        "colab": {
          "base_uri": "https://localhost:8080/"
        }
      },
      "outputs": [
        {
          "output_type": "execute_result",
          "data": {
            "text/plain": [
              "['a wheeled vehicle with large wheels; used in farming and other applications',\n",
              " 'a truck that has a cab but no body; used for pulling large trailers or vans']"
            ]
          },
          "metadata": {},
          "execution_count": 5
        }
      ],
      "source": [
        "# Definitions of senses\n",
        "\n",
        "[syn.definition() for syn in tractor]"
      ]
    },
    {
      "cell_type": "code",
      "execution_count": null,
      "id": "active-norwegian",
      "metadata": {
        "id": "active-norwegian"
      },
      "outputs": [],
      "source": [
        "# Hypernyms: Relation between a concept and its superordinate\n",
        "\n",
        "tractor = wordnet.synset('tractor.n.01')\n",
        "tractor.hypernyms()"
      ]
    },
    {
      "cell_type": "code",
      "execution_count": null,
      "id": "arctic-customer",
      "metadata": {
        "id": "arctic-customer"
      },
      "outputs": [],
      "source": [
        "self_propelled_vehicle = wordnet.synset('self-propelled_vehicle.n.01')\n",
        "self_propelled_vehicle.hypernyms()"
      ]
    },
    {
      "cell_type": "code",
      "execution_count": null,
      "id": "invalid-lease",
      "metadata": {
        "id": "invalid-lease"
      },
      "outputs": [],
      "source": [
        "# Meronyms: Relation between a part and its whole\n",
        "\n",
        "wheeled_vehicle = wordnet.synset('wheeled_vehicle.n.01')\n",
        "wheeled_vehicle.part_meronyms()"
      ]
    },
    {
      "cell_type": "code",
      "execution_count": null,
      "id": "brown-weekend",
      "metadata": {
        "id": "brown-weekend"
      },
      "outputs": [],
      "source": [
        "# Hyponyms: Relation between a concept and its subordinate\n",
        "\n",
        "wheeled_vehicle.hyponyms()"
      ]
    },
    {
      "cell_type": "code",
      "execution_count": null,
      "id": "theoretical-bargain",
      "metadata": {
        "id": "theoretical-bargain"
      },
      "outputs": [],
      "source": [
        "# Holonyms: Relation between whole and its parts\n",
        "\n",
        "axle = wordnet.synset('axle.n.01')\n",
        "axle.part_holonyms()"
      ]
    },
    {
      "cell_type": "code",
      "execution_count": null,
      "id": "identical-shoulder",
      "metadata": {
        "id": "identical-shoulder"
      },
      "outputs": [],
      "source": [
        "self_propelled_vehicle.hyponyms()"
      ]
    },
    {
      "cell_type": "code",
      "execution_count": null,
      "id": "quick-strengthening",
      "metadata": {
        "id": "quick-strengthening"
      },
      "outputs": [],
      "source": [
        "motor_vehicle = wordnet.synset('motor_vehicle.n.01')\n",
        "motor_vehicle.hyponyms()"
      ]
    },
    {
      "cell_type": "code",
      "execution_count": null,
      "id": "egyptian-appliance",
      "metadata": {
        "id": "egyptian-appliance"
      },
      "outputs": [],
      "source": [
        "car = wordnet.synset('car.n.01')\n",
        "car.part_meronyms()"
      ]
    },
    {
      "cell_type": "code",
      "execution_count": null,
      "id": "civic-worst",
      "metadata": {
        "id": "civic-worst"
      },
      "outputs": [],
      "source": []
    }
  ],
  "metadata": {
    "kernelspec": {
      "display_name": "Python 3",
      "language": "python",
      "name": "python3"
    },
    "language_info": {
      "codemirror_mode": {
        "name": "ipython",
        "version": 3
      },
      "file_extension": ".py",
      "mimetype": "text/x-python",
      "name": "python",
      "nbconvert_exporter": "python",
      "pygments_lexer": "ipython3",
      "version": "3.8.5"
    },
    "colab": {
      "provenance": [],
      "include_colab_link": true
    }
  },
  "nbformat": 4,
  "nbformat_minor": 5
}